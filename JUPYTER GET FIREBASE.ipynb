{
 "cells": [
  {
   "cell_type": "code",
   "execution_count": null,
   "id": "bd2c882d",
   "metadata": {},
   "outputs": [],
   "source": [
    "import requests\n",
    "import json"
   ]
  },
  {
   "cell_type": "code",
   "execution_count": 1,
   "id": "a7665446",
   "metadata": {},
   "outputs": [
    {
     "name": "stdout",
     "output_type": "stream",
     "text": [
      "{'Estoque': {'item01': {'nome': 'arroz', 'qtde': 5, 'unidade': 'kg'}, 'item02': {'nome': 'feijao', 'qtde': 6, 'unidade': 'kg'}}, 'Vendedores': {'id01': {'nome': 'Ze', 'salario': 1000}}}\n"
     ]
    }
   ],
   "source": [
    "data = requests.get('https://estoque-99f25-default-rtdb.firebaseio.com/.json')\n",
    "print(data.json())\n",
    "\n"
   ]
  },
  {
   "cell_type": "code",
   "execution_count": 9,
   "id": "c71f30f2",
   "metadata": {},
   "outputs": [
    {
     "name": "stdout",
     "output_type": "stream",
     "text": [
      "arroz\n",
      "feijao\n"
     ]
    }
   ],
   "source": [
    "data_estoque = requests.get('https://estoque-99f25-default-rtdb.firebaseio.com/Estoque/.json')\n",
    "#print(data)\n",
    "\n",
    "dlc_estoque = data_estoque.json()\n",
    "\n",
    "for item in dlc_estoque:\n",
    "    #print(item)\n",
    "    selecionar_item = dlc_estoque[item]\n",
    "    #print(selecionar_item)\n",
    "    print(selecionar_item['nome'])"
   ]
  },
  {
   "cell_type": "code",
   "execution_count": 16,
   "id": "368b04ca",
   "metadata": {},
   "outputs": [
    {
     "name": "stdout",
     "output_type": "stream",
     "text": [
      "<Response [200]>\n",
      "{\"name\":\"-NWj0ZZmnsbAbA5N_HC3\"}\n",
      "200\n"
     ]
    }
   ],
   "source": [
    "#inserindo post\n",
    "url = 'https://estoque-99f25-default-rtdb.firebaseio.com/Estoque/-NWiux4IjLPyH5iayCXy.json'\n",
    "\n",
    "data = {'nome' : 'ervilha', 'qtde' : 1, 'unidade' : 'ml'}\n",
    "\n",
    "request = requests.post(f\"{url}\", data=json.dumps(data) )\n",
    "\n",
    "print(request)\n",
    "print(request.text)\n",
    "print(request.status_code)"
   ]
  },
  {
   "cell_type": "code",
   "execution_count": 26,
   "id": "5de8ff58",
   "metadata": {},
   "outputs": [
    {
     "name": "stdout",
     "output_type": "stream",
     "text": [
      "{\"qtde\":2}\n"
     ]
    }
   ],
   "source": [
    "#alterar patch\n",
    "\n",
    "altera = {'qtde' : 2}\n",
    "request = requests.patch('https://estoque-99f25-default-rtdb.firebaseio.com/Estoque/-NWiux4IjLPyH5iayCXy.json', data=json.dumps(altera))\n",
    "\n",
    "print(request.text)"
   ]
  },
  {
   "cell_type": "code",
   "execution_count": 29,
   "id": "89fd11ea",
   "metadata": {},
   "outputs": [
    {
     "name": "stdout",
     "output_type": "stream",
     "text": [
      "<Response [200]>\n",
      "null\n"
     ]
    }
   ],
   "source": [
    "#exclusao delete\n",
    "\n",
    "request = requests.delete('https://estoque-99f25-default-rtdb.firebaseio.com/Estoque/-NWiux4IjLPyH5iayCXy.json')\n",
    "\n",
    "print(request)\n",
    "print(request.text)"
   ]
  },
  {
   "cell_type": "code",
   "execution_count": 38,
   "id": "4cded1cd",
   "metadata": {},
   "outputs": [
    {
     "name": "stdout",
     "output_type": "stream",
     "text": [
      "['-NWj0ZZmnsbAbA5N_HC3']\n",
      "https://estoque-99f25-default-rtdb.firebaseio.com/Estoque/.json-NWj0ZZmnsbAbA5N_HC3/.json\n"
     ]
    }
   ],
   "source": [
    "#excluir todos os ervilhas\n",
    "\n",
    "\n",
    "url = 'https://estoque-99f25-default-rtdb.firebaseio.com/Estoque/.json'\n",
    "data = requests.get(url)\n",
    "data_dlc = data.json()\n",
    "#print(data_dlc)\n",
    "\n",
    "itemtodelete= []\n",
    "\n",
    "for item in data_dlc:\n",
    "    select_item = data_dlc[item]\n",
    "   # print(select_item)\n",
    "    if (select_item['nome'] == 'ervilha'):\n",
    "        #print('plim')\n",
    "        itemtodelete.append(item)\n",
    "        \n",
    "print(itemtodelete)\n",
    "\n",
    "for registro in itemtodelete:\n",
    "    #print(f\"{url}\" + registro + \"/.json\" )\n",
    "    \n",
    "    delet = (f\"{url}\" + registro + \"/.json\" )\n",
    "    request = requests.delete(delet)\n",
    "    \n",
    "    print(request)\n",
    "    print(request.text)"
   ]
  }
 ],
 "metadata": {
  "kernelspec": {
   "display_name": "Python 3",
   "language": "python",
   "name": "python3"
  },
  "language_info": {
   "codemirror_mode": {
    "name": "ipython",
    "version": 3
   },
   "file_extension": ".py",
   "mimetype": "text/x-python",
   "name": "python",
   "nbconvert_exporter": "python",
   "pygments_lexer": "ipython3",
   "version": "3.8.8"
  }
 },
 "nbformat": 4,
 "nbformat_minor": 5
}
